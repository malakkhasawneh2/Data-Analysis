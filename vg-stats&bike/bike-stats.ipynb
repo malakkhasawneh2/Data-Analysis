{
 "cells": [
  {
   "cell_type": "markdown",
   "metadata": {},
   "source": [
    "# Bike-stats\n",
    "# Cycle Share Data set\n",
    "* trip \n",
    "*  station \n",
    "* weather"
   ]
  },
  {
   "cell_type": "code",
   "execution_count": 1,
   "metadata": {},
   "outputs": [],
   "source": [
    "%matplotlib inline\n",
    "import matplotlib.pyplot as plt\n",
    "import pandas as pd \n",
    "import numpy as np"
   ]
  },
  {
   "cell_type": "code",
   "execution_count": 2,
   "metadata": {},
   "outputs": [
    {
     "name": "stderr",
     "output_type": "stream",
     "text": [
      "/home/malak/Data-Analysis/vg-stats/.venv/lib/python3.9/site-packages/IPython/core/interactiveshell.py:3444: FutureWarning: The error_bad_lines argument has been deprecated and will be removed in a future version.\n",
      "\n",
      "\n",
      "  exec(code_obj, self.user_global_ns, self.user_ns)\n",
      "b'Skipping line 50794: expected 12 fields, saw 20\\n'\n"
     ]
    }
   ],
   "source": [
    "dfTrip = pd.read_csv('trip.csv',error_bad_lines=False)\n",
    "dfWhether = pd.read_csv('weather.csv')\n",
    "dfStation = pd.read_csv('station.csv')"
   ]
  },
  {
   "cell_type": "markdown",
   "metadata": {},
   "source": [
    "# What is the average trip duration for a borrowed bicycle?"
   ]
  },
  {
   "cell_type": "code",
   "execution_count": 13,
   "metadata": {},
   "outputs": [
    {
     "data": {
      "text/plain": [
       "1178.2956753399776"
      ]
     },
     "execution_count": 13,
     "metadata": {},
     "output_type": "execute_result"
    }
   ],
   "source": [
    "tripAverage=dfTrip['tripduration'].mean()\n",
    "tripAverage"
   ]
  },
  {
   "cell_type": "markdown",
   "metadata": {},
   "source": [
    "# What’s the most common age of a bicycle-sharer?"
   ]
  },
  {
   "cell_type": "code",
   "execution_count": 15,
   "metadata": {},
   "outputs": [
    {
     "data": {
      "text/plain": [
       "34.0"
      ]
     },
     "execution_count": 15,
     "metadata": {},
     "output_type": "execute_result"
    }
   ],
   "source": [
    "mostCommonAge=dfTrip['birthyear'].mode()[0]\n",
    "mostCommonAge\n",
    "age=2021-mostCommonAge\n",
    "age\n"
   ]
  },
  {
   "cell_type": "markdown",
   "metadata": {},
   "source": [
    "# Given all the weather data here, find the average precipitation per month, and the median precipitation."
   ]
  },
  {
   "cell_type": "code",
   "execution_count": 19,
   "metadata": {},
   "outputs": [
    {
     "data": {
      "text/plain": [
       "(Date\n",
       " 2014-10    0.140\n",
       " 2014-11    0.010\n",
       " 2014-12    0.010\n",
       " 2015-01    0.010\n",
       " 2015-02    0.025\n",
       " 2015-03    0.000\n",
       " 2015-04    0.000\n",
       " 2015-05    0.000\n",
       " 2015-06    0.000\n",
       " 2015-07    0.000\n",
       " 2015-08    0.000\n",
       " 2015-09    0.000\n",
       " 2015-10    0.010\n",
       " 2015-11    0.065\n",
       " 2015-12    0.120\n",
       " 2016-01    0.070\n",
       " 2016-02    0.080\n",
       " 2016-03    0.060\n",
       " 2016-04    0.000\n",
       " 2016-05    0.000\n",
       " 2016-06    0.000\n",
       " 2016-07    0.000\n",
       " 2016-08    0.000\n",
       " Freq: M, Name: Precipitation_In, dtype: float64,\n",
       " Date\n",
       " 2014-10    0.300526\n",
       " 2014-11    0.141667\n",
       " 2014-12    0.145161\n",
       " 2015-01    0.070645\n",
       " 2015-02    0.163214\n",
       " 2015-03    0.135161\n",
       " 2015-04    0.056667\n",
       " 2015-05    0.014194\n",
       " 2015-06    0.005667\n",
       " 2015-07    0.008710\n",
       " 2015-08    0.035484\n",
       " 2015-09    0.041000\n",
       " 2015-10    0.120645\n",
       " 2015-11    0.234000\n",
       " 2015-12    0.327419\n",
       " 2016-01    0.216452\n",
       " 2016-02    0.173448\n",
       " 2016-03    0.178710\n",
       " 2016-04    0.046000\n",
       " 2016-05    0.010645\n",
       " 2016-06    0.055333\n",
       " 2016-07    0.015484\n",
       " 2016-08    0.000968\n",
       " Freq: M, Name: Precipitation_In, dtype: float64)"
      ]
     },
     "execution_count": 19,
     "metadata": {},
     "output_type": "execute_result"
    }
   ],
   "source": [
    "medm_prec=dfWhether.groupby(pd.PeriodIndex(dfWhether['Date'], freq=\"M\"))['Precipitation_In'].median()\n",
    "men_prec=dfWhether.groupby(pd.PeriodIndex(dfWhether['Date'], freq=\"M\"))['Precipitation_In'].mean()\n",
    "medm_prec , men_prec"
   ]
  },
  {
   "cell_type": "markdown",
   "metadata": {},
   "source": [
    "# What’s the average number of bikes at a given bike station?"
   ]
  },
  {
   "cell_type": "code",
   "execution_count": 22,
   "metadata": {},
   "outputs": [
    {
     "data": {
      "text/plain": [
       "17.586206896551722"
      ]
     },
     "execution_count": 22,
     "metadata": {},
     "output_type": "execute_result"
    }
   ],
   "source": [
    "averageBikesNumber= (dfStation['install_dockcount'].mean())\n",
    "averageBikesNumber"
   ]
  },
  {
   "cell_type": "markdown",
   "metadata": {},
   "source": [
    "# When a bike station is modified, is it more likely that it’ll lose bikes or gain bikes? How do you know?"
   ]
  },
  {
   "cell_type": "code",
   "execution_count": 23,
   "metadata": {},
   "outputs": [
    {
     "name": "stdout",
     "output_type": "stream",
     "text": [
      "-64\n"
     ]
    }
   ],
   "source": [
    "dates = dfStation[['modification_date','current_dockcount','install_dockcount']].dropna()\n",
    "datesNew = dates['current_dockcount'].sum() - dates['install_dockcount'].sum()\n",
    "print(datesNew)"
   ]
  },
  {
   "cell_type": "markdown",
   "metadata": {},
   "source": [
    "# What is the average max temperature in fahrenheit? "
   ]
  },
  {
   "cell_type": "code",
   "execution_count": 8,
   "metadata": {},
   "outputs": [
    {
     "data": {
      "text/plain": [
       "64.02757619738752"
      ]
     },
     "execution_count": 8,
     "metadata": {},
     "output_type": "execute_result"
    }
   ],
   "source": [
    "avgMaxTemp=dfWhether['Max_Temperature_F'].mean()\n",
    "avgMaxTemp"
   ]
  },
  {
   "cell_type": "markdown",
   "metadata": {},
   "source": [
    "# What is the common gender rides bike?"
   ]
  },
  {
   "cell_type": "code",
   "execution_count": 26,
   "metadata": {},
   "outputs": [
    {
     "data": {
      "text/plain": [
       "'Male'"
      ]
     },
     "execution_count": 26,
     "metadata": {},
     "output_type": "execute_result"
    }
   ],
   "source": [
    "com_gend = dfTrip['gender'].mode()\n",
    "com_gend[0]"
   ]
  },
  {
   "cell_type": "markdown",
   "metadata": {},
   "source": [
    "# What is the median trip duration for a borrowed bicycle?"
   ]
  },
  {
   "cell_type": "code",
   "execution_count": 27,
   "metadata": {},
   "outputs": [
    {
     "data": {
      "text/plain": [
       "624.842"
      ]
     },
     "execution_count": 27,
     "metadata": {},
     "output_type": "execute_result"
    }
   ],
   "source": [
    "tripMedianDur=dfTrip['tripduration'].median()\n",
    "tripMedianDur"
   ]
  },
  {
   "cell_type": "code",
   "execution_count": 32,
   "metadata": {},
   "outputs": [
    {
     "name": "stdout",
     "output_type": "stream",
     "text": [
      "Success!!!\n"
     ]
    }
   ],
   "source": [
    "def test():\n",
    "\n",
    "    def assert_equal(actual,expected):\n",
    "        assert actual == expected, f\"Expected {expected} but got {actual}\"\n",
    "\n",
    "    assert_equal(tripAverage, 1178.2956753399776)\n",
    "    assert_equal(age, 34.0)\n",
    "    assert_equal(averageBikesNumber, 17.586206896551722)\n",
    "    assert_equal(datesNew, -64)\n",
    "    assert_equal(avgMaxTemp, 64.02757619738752)\n",
    "    assert_equal(com_gend[0], 'Male')\n",
    "    assert_equal(tripMedianDur, 624.842)\n",
    "\n",
    "\n",
    "    print(\"Success!!!\")\n",
    "\n",
    "test()"
   ]
  },
  {
   "cell_type": "code",
   "execution_count": null,
   "metadata": {},
   "outputs": [],
   "source": []
  }
 ],
 "metadata": {
  "interpreter": {
   "hash": "a0a34629b00fa951a2f50b7c1b43dd3bbd6dfd88a25756bdc6d48ce28c280b7f"
  },
  "kernelspec": {
   "display_name": "Python 3 (ipykernel)",
   "language": "python",
   "name": "python3"
  },
  "language_info": {
   "codemirror_mode": {
    "name": "ipython",
    "version": 3
   },
   "file_extension": ".py",
   "mimetype": "text/x-python",
   "name": "python",
   "nbconvert_exporter": "python",
   "pygments_lexer": "ipython3",
   "version": "3.9.5"
  }
 },
 "nbformat": 4,
 "nbformat_minor": 4
}
